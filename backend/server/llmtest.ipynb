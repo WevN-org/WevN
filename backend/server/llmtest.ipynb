{
 "cells": [
  {
   "cell_type": "code",
   "execution_count": 1,
   "id": "3578901d",
   "metadata": {},
   "outputs": [],
   "source": [
    "import json\n",
    "from langchain_ollama import ChatOllama\n",
    "from langchain_core.prompts import ChatPromptTemplate\n",
    "from langchain_core.output_parsers import StrOutputParser\n"
   ]
  },
  {
   "cell_type": "code",
   "execution_count": 5,
   "id": "5fa1ff08",
   "metadata": {},
   "outputs": [],
   "source": [
    "llm = ChatOllama(\n",
    "    model=\"deepseek-r1:7b\", \n",
    "    format=\"json\", \n",
    "    temperature=0\n",
    ")"
   ]
  },
  {
   "cell_type": "code",
   "execution_count": 7,
   "id": "25a28656",
   "metadata": {},
   "outputs": [],
   "source": [
    "prompt = ChatPromptTemplate.from_template(\n",
    "    \"Analyze the following user request and extract the key details for a database entry. \"\n",
    "    \"User Request: 'Please add our new lead, Sarah Connor, who is the CTO of Cyberdyne Systems. \"\n",
    "    \"Her contact number is 555-0182.' \"\n",
    "    \"Provide a JSON object with 'name', 'company', and 'title' keys.\"\n",
    ")"
   ]
  },
  {
   "cell_type": "code",
   "execution_count": 15,
   "id": "b328b081",
   "metadata": {},
   "outputs": [
    {
     "name": "stdout",
     "output_type": "stream",
     "text": [
      "--- Streaming Output ---\n",
      "{ \"name\": \"Sarah Connor\", \"company\": \"Cyberdyne Systems\", \"title\": \"CTO\" }\n",
      "\n",
      "--- Final Assembled Response ---\n",
      "{ \"name\": \"Sarah Connor\", \"company\": \"Cyberdyne Systems\", \"title\": \"CTO\" }\n"
     ]
    }
   ],
   "source": [
    "chain = prompt | llm | StrOutputParser()\n",
    "\n",
    "print(\"--- Streaming Output ---\")\n",
    "full_response = \"\"\n",
    "\n",
    "# 3. Use 'async for' to iterate over the stream from chain.astream()\n",
    "async for chunk in chain.astream({}):\n",
    "    # Each 'chunk' is a string. Print it as it arrives.\n",
    "    # 'end=\"\"' prevents newlines, and 'flush=True' ensures immediate printing.\n",
    "    print(chunk, end=\"\", flush=True)\n",
    "    full_response += chunk  # Assemble the full response string\n",
    "\n",
    "print(\"\\n\\n--- Final Assembled Response ---\")\n",
    "print(full_response)"
   ]
  },
  {
   "cell_type": "code",
   "execution_count": 14,
   "id": "d3342c46",
   "metadata": {},
   "outputs": [
    {
     "name": "stdout",
     "output_type": "stream",
     "text": [
      "\n",
      "--- Parsed Python Dictionary ---\n",
      "{'name': 'Sarah Connor', 'company': 'Cyberdyne Systems', 'title': 'CTO'}\n",
      "Name: Sarah Connor\n"
     ]
    }
   ],
   "source": [
    "try:\n",
    "    data = json.loads(full_response)\n",
    "    print(\"\\n--- Parsed Python Dictionary ---\")\n",
    "    print(data)\n",
    "    print(f\"Name: {data.get('name')}\")\n",
    "except json.JSONDecodeError:\n",
    "    print(\"\\nFailed to parse the string into JSON.\")"
   ]
  },
  {
   "cell_type": "code",
   "execution_count": null,
   "id": "6ae63ec9",
   "metadata": {},
   "outputs": [],
   "source": []
  }
 ],
 "metadata": {
  "kernelspec": {
   "display_name": "venv",
   "language": "python",
   "name": "python3"
  },
  "language_info": {
   "codemirror_mode": {
    "name": "ipython",
    "version": 3
   },
   "file_extension": ".py",
   "mimetype": "text/x-python",
   "name": "python",
   "nbconvert_exporter": "python",
   "pygments_lexer": "ipython3",
   "version": "3.13.7"
  }
 },
 "nbformat": 4,
 "nbformat_minor": 5
}
