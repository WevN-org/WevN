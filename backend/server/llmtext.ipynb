{
 "cells": [
  {
   "cell_type": "code",
   "execution_count": 2,
   "id": "ca464690",
   "metadata": {},
   "outputs": [],
   "source": [
    "from langchain_ollama import ChatOllama\n",
    "from langchain.chains import LLMChain\n",
    "from langchain.prompts import PromptTemplate\n",
    "from langchain.memory import ConversationSummaryMemory\n",
    "from langchain.output_parsers import PydanticOutputParser\n",
    "from pydantic import BaseModel, Field\n",
    "from typing import Optional\n",
    "from langchain.output_parsers import OutputFixingParser"
   ]
  },
  {
   "cell_type": "code",
   "execution_count": 3,
   "id": "bf6d927e",
   "metadata": {},
   "outputs": [],
   "source": [
    "class StructuredResponse(BaseModel):\n",
    "    Answer: str = Field(description=\"Main answer text, can include explanation or code\")\n",
    "    Command: Optional[str] = Field(default=\"\", description=\"Custom command for tools, if any\")"
   ]
  },
  {
   "cell_type": "code",
   "execution_count": 4,
   "id": "29af7039",
   "metadata": {},
   "outputs": [
    {
     "name": "stderr",
     "output_type": "stream",
     "text": [
      "C:\\Users\\anshu\\AppData\\Local\\Temp\\ipykernel_7764\\2716412036.py:9: LangChainDeprecationWarning: Please see the migration guide at: https://python.langchain.com/docs/versions/migrating_memory/\n",
      "  summary_memory = ConversationSummaryMemory(llm=llm)\n"
     ]
    }
   ],
   "source": [
    "\n",
    "base_parser = PydanticOutputParser(pydantic_object=StructuredResponse)\n",
    "\n",
    "\n",
    "# ---------------------------\n",
    "# 2. LLM + Memory\n",
    "# ---------------------------\n",
    "llm = ChatOllama(model=\"gemma3:4b\", temperature=0)\n",
    "parser = OutputFixingParser.from_llm(parser=base_parser, llm=llm)\n",
    "summary_memory = ConversationSummaryMemory(llm=llm)"
   ]
  },
  {
   "cell_type": "code",
   "execution_count": 5,
   "id": "c437b56b",
   "metadata": {},
   "outputs": [],
   "source": [
    "prompt = PromptTemplate(\n",
    "    template=\"\"\"\n",
    "You are a helpful assistant.\n",
    "\n",
    "Conversation so far:\n",
    "{history}\n",
    "\n",
    "User input: {input}\n",
    "\n",
    "Respond strictly in JSON format.\n",
    "Always return both fields: \"Answer\" and \"Command\".\n",
    "If no command, set \"Command\": \"\".\n",
    "\n",
    "{format_instructions}\n",
    "\"\"\",\n",
    "    input_variables=[\"input\", \"history\"],\n",
    "    partial_variables={\"format_instructions\": parser.get_format_instructions()}\n",
    ")"
   ]
  },
  {
   "cell_type": "code",
   "execution_count": 6,
   "id": "f94ebb1c",
   "metadata": {},
   "outputs": [
    {
     "name": "stderr",
     "output_type": "stream",
     "text": [
      "C:\\Users\\anshu\\AppData\\Local\\Temp\\ipykernel_7764\\3397025510.py:1: LangChainDeprecationWarning: The class `LLMChain` was deprecated in LangChain 0.1.17 and will be removed in 1.0. Use :meth:`~RunnableSequence, e.g., `prompt | llm`` instead.\n",
      "  structured_chain = LLMChain(\n"
     ]
    }
   ],
   "source": [
    "structured_chain = LLMChain(\n",
    "    llm=llm,\n",
    "    prompt=prompt,\n",
    "    output_parser=parser,\n",
    "\n",
    ")"
   ]
  },
  {
   "cell_type": "code",
   "execution_count": 7,
   "id": "c84036eb",
   "metadata": {},
   "outputs": [],
   "source": [
    "def ask(question: str):\n",
    "    # Load history from memory\n",
    "    history_vars = summary_memory.load_memory_variables({})\n",
    "    history = history_vars.get(\"history\", \"\")\n",
    "    \n",
    "    # Run chain (LangChain already uses parser, so output is StructuredResponse)\n",
    "    raw_result = structured_chain.invoke({\"input\": question, \"history\": history})\n",
    "    print(\"result-->\",raw_result)\n",
    "    # LLMChain returns a dict with key \"text\" holding our parsed object\n",
    "    result: StructuredResponse = raw_result[\"text\"]\n",
    "    \n",
    "    # Save only Answer back into memory (not full JSON)\n",
    "    summary_memory.save_context(\n",
    "        {\"input\": question},\n",
    "        {\"output\": result.Answer}\n",
    "    )\n",
    "    return result\n"
   ]
  },
  {
   "cell_type": "code",
   "execution_count": 8,
   "id": "95396490",
   "metadata": {},
   "outputs": [
    {
     "name": "stdout",
     "output_type": "stream",
     "text": [
      "result--> {'input': 'Hello, my name is Anshul.', 'history': '', 'text': StructuredResponse(Answer='Hello Anshul, nice to meet you!', Command='')}\n",
      "Structured: Answer='Hello Anshul, nice to meet you!' Command=''\n",
      "Summary memory: {'history': 'The human introduces himself as Anshul, and the AI responds with a greeting and expresses pleasure in meeting him.'}\n"
     ]
    }
   ],
   "source": [
    "response = ask(\"Hello, my name is Anshul.\")\n",
    "print(\"Structured:\", response)\n",
    "print(\"Summary memory:\", summary_memory.load_memory_variables({}))"
   ]
  },
  {
   "cell_type": "code",
   "execution_count": 10,
   "id": "8780d745",
   "metadata": {},
   "outputs": [
    {
     "name": "stdout",
     "output_type": "stream",
     "text": [
      "result--> {'input': 'who are u?', 'history': 'The human introduces himself as Anshul, and the AI confirms his name is Anshul.', 'text': StructuredResponse(Answer='I am an AI assistant, a large language model created by Google.', Command='')}\n",
      "Answer='I am an AI assistant, a large language model created by Google.' Command=''\n"
     ]
    }
   ],
   "source": [
    "response = ask(\"who are u?\")\n",
    "print(response)"
   ]
  }
 ],
 "metadata": {
  "kernelspec": {
   "display_name": "venv",
   "language": "python",
   "name": "python3"
  },
  "language_info": {
   "codemirror_mode": {
    "name": "ipython",
    "version": 3
   },
   "file_extension": ".py",
   "mimetype": "text/x-python",
   "name": "python",
   "nbconvert_exporter": "python",
   "pygments_lexer": "ipython3",
   "version": "3.13.7"
  }
 },
 "nbformat": 4,
 "nbformat_minor": 5
}
